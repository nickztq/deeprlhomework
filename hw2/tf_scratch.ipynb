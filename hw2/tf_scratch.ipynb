{
 "cells": [
  {
   "cell_type": "code",
   "execution_count": 2,
   "metadata": {},
   "outputs": [],
   "source": [
    "import tensorflow as tf\n",
    "import numpy as np\n",
    "import matplotlib.pyplot as plt\n",
    "import matplotlib.cm as cm\n",
    "import matplotlib.patches as mpatches"
   ]
  },
  {
   "cell_type": "code",
   "execution_count": 3,
   "metadata": {},
   "outputs": [],
   "source": [
    "def tf_reset():\n",
    "    try:\n",
    "        sess.close()\n",
    "    except:\n",
    "        pass\n",
    "    tf.reset_default_graph()\n",
    "    return tf.Session()"
   ]
  },
  {
   "cell_type": "markdown",
   "metadata": {},
   "source": [
    "### build network"
   ]
  },
  {
   "cell_type": "code",
   "execution_count": 81,
   "metadata": {},
   "outputs": [],
   "source": [
    "def build_mlp(input_placeholder, output_size, scope, n_layers, size, activation=tf.tanh, output_activation=None):\n",
    "    \"\"\"\n",
    "        Builds a feedforward neural network\n",
    "        \n",
    "        arguments:\n",
    "            input_placeholder: placeholder variable for the state (batch_size, input_size)\n",
    "            output_size: size of the output layer\n",
    "            scope: variable scope of the network\n",
    "            n_layers: number of hidden layers\n",
    "            size: dimension of the hidden layer\n",
    "            activation: activation of the hidden layers\n",
    "            output_activation: activation of the ouput layers\n",
    "\n",
    "        returns:\n",
    "            output placeholder of the network (the result of a forward pass) \n",
    "\n",
    "        Hint: use tf.layers.dense    \n",
    "    \"\"\"\n",
    "    # YOUR CODE HERE\n",
    "    fwd = input_placeholder\n",
    "    for _ in range(n_layers):\n",
    "        fwd = tf.layers.dense(fwd, size, activation=activation)\n",
    "    output_placeholder = tf.layers.dense(fwd, output_size, activation=output_activation)\n",
    "    return output_placeholder"
   ]
  },
  {
   "cell_type": "code",
   "execution_count": 122,
   "metadata": {},
   "outputs": [],
   "source": [
    "input_ph = tf.placeholder(dtype=tf.float32, shape = [None, 2])\n",
    "output_ph = build_mlp(input_ph, 3, None, 2, 5, tf.nn.relu, tf.nn.softmax)\n",
    "sess.run(tf.global_variables_initializer())\n",
    "output_run = sess.run(output_ph, feed_dict={input_ph: np.array([[2,3], [4,5]])})"
   ]
  },
  {
   "cell_type": "code",
   "execution_count": 85,
   "metadata": {},
   "outputs": [
    {
     "name": "stdout",
     "output_type": "stream",
     "text": [
      "[[0.37970188 0.02442171 0.59587634]\n",
      " [0.3143339  0.00279099 0.68287504]]\n"
     ]
    }
   ],
   "source": [
    "print(output_run)"
   ]
  },
  {
   "cell_type": "markdown",
   "metadata": {},
   "source": [
    "### matrix broadcasting"
   ]
  },
  {
   "cell_type": "code",
   "execution_count": 89,
   "metadata": {},
   "outputs": [
    {
     "name": "stdout",
     "output_type": "stream",
     "text": [
      "[[2. 2. 2.]\n",
      " [3. 3. 3.]]\n"
     ]
    }
   ],
   "source": [
    "sess = tf_reset()\n",
    "b = tf.constant([[1,1,1], [1,1,1]], dtype = tf.float32)\n",
    "a = tf.constant([[2],[3]], dtype = tf.float32)\n",
    "c = b * a\n",
    "print(sess.run(c))"
   ]
  },
  {
   "cell_type": "markdown",
   "metadata": {},
   "source": [
    "### random sampling"
   ]
  },
  {
   "cell_type": "code",
   "execution_count": 151,
   "metadata": {},
   "outputs": [
    {
     "name": "stdout",
     "output_type": "stream",
     "text": [
      "[[2]\n",
      " [0]]\n"
     ]
    }
   ],
   "source": [
    "sess = tf_reset()\n",
    "logits = tf.constant([[0,0,10], [10,0,0]], dtype = tf.float32)\n",
    "samples = tf.random.categorical(tf.log(logits), 1)\n",
    "print(sess.run(samples))"
   ]
  },
  {
   "cell_type": "code",
   "execution_count": 153,
   "metadata": {},
   "outputs": [
    {
     "name": "stdout",
     "output_type": "stream",
     "text": [
      "[-1.0000091e+01 -9.0833353e-05]\n"
     ]
    }
   ],
   "source": [
    "import tensorflow_probability as tfp\n",
    "labels = tf.constant([[1,0]], dtype = tf.int32)\n",
    "dist = tfp.distributions.Categorical(logits)\n",
    "print(sess.run(dist.log_prob(tf.reshape(labels, [-1]))))"
   ]
  },
  {
   "cell_type": "code",
   "execution_count": 117,
   "metadata": {},
   "outputs": [
    {
     "data": {
      "text/plain": [
       "4.539580782951091e-05"
      ]
     },
     "execution_count": 117,
     "metadata": {},
     "output_type": "execute_result"
    }
   ],
   "source": [
    "1.0 / (np.exp(10)+2)"
   ]
  },
  {
   "cell_type": "code",
   "execution_count": 140,
   "metadata": {},
   "outputs": [],
   "source": [
    "sess = tf_reset()\n",
    "mu = tf.constant([[0, 0, 0], [1 ,2 ,3 ]], dtype = tf.float32)\n",
    "std = tf.constant([[.1, .1, 10]], dtype = tf.float32)\n",
    "samples = tf.random.normal(tf.shape(mu))\n",
    "samples = mu + std * samples\n",
    "samples_run = sess.run(samples)"
   ]
  },
  {
   "cell_type": "code",
   "execution_count": 138,
   "metadata": {},
   "outputs": [
    {
     "name": "stdout",
     "output_type": "stream",
     "text": [
      "[[-4.5889136e-04  7.3938206e-02 -1.2480277e-01]\n",
      " [ 1.1469519e+00  1.9799045e+00  2.8399444e+00]]\n"
     ]
    }
   ],
   "source": [
    "print(samples_run)"
   ]
  },
  {
   "cell_type": "code",
   "execution_count": 149,
   "metadata": {},
   "outputs": [
    {
     "name": "stdout",
     "output_type": "stream",
     "text": [
      "[-0.4542303 -0.4542303]\n"
     ]
    }
   ],
   "source": [
    "import tensorflow_probability as tfp\n",
    "dist = tfp.distributions.MultivariateNormalDiag(loc = mu, scale_diag = std)\n",
    "print(sess.run(dist.log_prob(mu)))"
   ]
  }
 ],
 "metadata": {
  "kernelspec": {
   "display_name": "Python 3",
   "language": "python",
   "name": "python3"
  },
  "language_info": {
   "codemirror_mode": {
    "name": "ipython",
    "version": 3
   },
   "file_extension": ".py",
   "mimetype": "text/x-python",
   "name": "python",
   "nbconvert_exporter": "python",
   "pygments_lexer": "ipython3",
   "version": "3.7.3"
  }
 },
 "nbformat": 4,
 "nbformat_minor": 2
}
